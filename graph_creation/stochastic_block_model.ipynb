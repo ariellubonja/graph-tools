{
 "cells": [
  {
   "cell_type": "markdown",
   "source": [
    "# Create Stochastic Block Model (SBM) graphs"
   ],
   "metadata": {
    "collapsed": false
   },
   "id": "b7e73dc06d6bd64f"
  },
  {
   "cell_type": "code",
   "outputs": [],
   "source": [
    "import math\n",
    "import igraph as ig\n",
    "from igraph import Graph\n",
    "import os"
   ],
   "metadata": {
    "collapsed": false
   },
   "id": "8c037338bdb3dbd7"
  },
  {
   "cell_type": "code",
   "execution_count": null,
   "id": "initial_id",
   "metadata": {
    "collapsed": true
   },
   "outputs": [],
   "source": [
    "def generate_SBM_igraph(num_nodes, target_edges):\n",
    "    n_nodes_per_comm = [num_nodes // 2, num_nodes // 2]\n",
    "    p_11 = target_edges / (1.5 * n_nodes_per_comm[0] * n_nodes_per_comm[0])\n",
    "    p = [[p_11, 0.5 * p_11], [0.5 * p_11, p_11]]\n",
    "    \n",
    "    # Check if probabilities are within valid range\n",
    "    if p_11 > 1:\n",
    "        print(f\"Error: Estimated probability exceeds 1 for target edges {target_edges}.\")\n",
    "        return None\n",
    "\n",
    "    return ig.Graph.SBM(n=num_nodes, pref_matrix=p, block_sizes=n_nodes_per_comm)\n"
   ]
  },
  {
   "cell_type": "code",
   "outputs": [],
   "source": [
    "for exp in range(13, 32):\n",
    "    target_edges = 2**exp\n",
    "    print(\"Num. edges\", target_edges)\n",
    "    G = generate_SBM_igraph(num_nodes, target_edges)\n",
    "\n",
    "    G.write_edgelist(os.path.join(\"graphs/stochastic-block-model-graphs/\", str(G.ecount()) + \"-edges.edgelist\"))"
   ],
   "metadata": {
    "collapsed": false
   },
   "id": "9419cf443f9c8"
  }
 ],
 "metadata": {
  "kernelspec": {
   "display_name": "Python 3",
   "language": "python",
   "name": "python3"
  },
  "language_info": {
   "codemirror_mode": {
    "name": "ipython",
    "version": 2
   },
   "file_extension": ".py",
   "mimetype": "text/x-python",
   "name": "python",
   "nbconvert_exporter": "python",
   "pygments_lexer": "ipython2",
   "version": "2.7.6"
  }
 },
 "nbformat": 4,
 "nbformat_minor": 5
}
