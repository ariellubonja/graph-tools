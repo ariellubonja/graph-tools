{
 "cells": [
  {
   "cell_type": "code",
   "execution_count": 13,
   "id": "1e6bf9b4-b268-4bc8-b530-1d41c63e177a",
   "metadata": {},
   "outputs": [],
   "source": [
    "import networkx as nx\n",
    "import os\n",
    "\n",
    "graph_path = \"../creation/erdos-renyi-networkit-graphs\""
   ]
  },
  {
   "cell_type": "code",
   "execution_count": 14,
   "id": "76e33383-bd77-42c7-abd9-08c7d8f2713d",
   "metadata": {},
   "outputs": [
    {
     "data": {
      "text/plain": [
       "'/Users/ariellubonja/prog/graph-tools/analysis'"
      ]
     },
     "execution_count": 14,
     "metadata": {},
     "output_type": "execute_result"
    }
   ],
   "source": [
    "os.getcwd()"
   ]
  },
  {
   "cell_type": "code",
   "execution_count": 15,
   "id": "86124068-02b3-4003-8da8-d2e2b5ab3e3a",
   "metadata": {},
   "outputs": [],
   "source": [
    "def calculate_average_degree(edgelist_file):\n",
    "    # Load the graph\n",
    "    G = nx.read_edgelist(edgelist_file)\n",
    "    \n",
    "    # Calculate degrees\n",
    "    degrees = [degree for node, degree in G.degree()]\n",
    "    \n",
    "    # Calculate average degree\n",
    "    if len(degrees) > 0:\n",
    "        average_degree = sum(degrees) / len(degrees)\n",
    "    else:\n",
    "        average_degree = 0  # In case of an empty graph\n",
    "\n",
    "    return average_degree"
   ]
  },
  {
   "cell_type": "code",
   "execution_count": 16,
   "id": "5eca68b9-1818-4fb5-b1a0-4274f9f2348e",
   "metadata": {},
   "outputs": [
    {
     "data": {
      "text/plain": [
       "['214748365-nodes_1073796575-edges.edgelist',\n",
       " '107374183-nodes_536841980-edges.edgelist']"
      ]
     },
     "execution_count": 16,
     "metadata": {},
     "output_type": "execute_result"
    }
   ],
   "source": [
    "graph_list = os.listdir(graph_path)\n",
    "graph_list"
   ]
  },
  {
   "cell_type": "code",
   "execution_count": null,
   "id": "ac9cb7a9-e9b9-45b0-820e-ca65f32ae85f",
   "metadata": {},
   "outputs": [],
   "source": [
    "for file_name in graph_list:\n",
    "    if file_name.endswith('.edgelist'):\n",
    "        file_path = os.path.join(graph_path, file_name)\n",
    "        avg_degree = calculate_average_degree(file_path)\n",
    "        print(f\"Average Degree of {file_name}: {avg_degree}\")"
   ]
  }
 ],
 "metadata": {
  "kernelspec": {
   "display_name": "Python 3 (ipykernel)",
   "language": "python",
   "name": "python3"
  },
  "language_info": {
   "codemirror_mode": {
    "name": "ipython",
    "version": 3
   },
   "file_extension": ".py",
   "mimetype": "text/x-python",
   "name": "python",
   "nbconvert_exporter": "python",
   "pygments_lexer": "ipython3",
   "version": "3.11.5"
  }
 },
 "nbformat": 4,
 "nbformat_minor": 5
}
