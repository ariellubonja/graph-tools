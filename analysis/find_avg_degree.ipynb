{
 "cells": [
  {
   "cell_type": "code",
   "execution_count": 4,
   "id": "1e6bf9b4-b268-4bc8-b530-1d41c63e177a",
   "metadata": {},
   "outputs": [],
   "source": [
    "import networkx as nx\n",
    "import os\n",
    "\n",
    "graph_path = \"../../erdos-renyi-graphs\""
   ]
  },
  {
   "cell_type": "code",
   "execution_count": 5,
   "id": "86124068-02b3-4003-8da8-d2e2b5ab3e3a",
   "metadata": {},
   "outputs": [],
   "source": [
    "def calculate_average_degree(edgelist_file):\n",
    "    # Load the graph\n",
    "    G = nx.read_edgelist(edgelist_file)\n",
    "    \n",
    "    # Calculate degrees\n",
    "    degrees = [degree for node, degree in G.degree()]\n",
    "    \n",
    "    # Calculate average degree\n",
    "    if len(degrees) > 0:\n",
    "        average_degree = sum(degrees) / len(degrees)\n",
    "    else:\n",
    "        average_degree = 0  # In case of an empty graph\n",
    "\n",
    "    return average_degree"
   ]
  },
  {
   "cell_type": "code",
   "execution_count": 9,
   "id": "5eca68b9-1818-4fb5-b1a0-4274f9f2348e",
   "metadata": {},
   "outputs": [
    {
     "data": {
      "text/plain": [
       "['.DS_Store',\n",
       " '524288-nodes_2621215-edges.edgelist',\n",
       " '8388608-nodes_41948840-edges.edgelist',\n",
       " '65536-nodes_327164-edges.edgelist',\n",
       " '131072-nodes_655082-edges.edgelist',\n",
       " '2097152-nodes_10488154-edges.edgelist',\n",
       " '1048576-nodes_5242311-edges.edgelist',\n",
       " '16777216-nodes_83894164-edges.edgelist',\n",
       " '4194304-nodes_20976102-edges.edgelist',\n",
       " '33554432-nodes_167743781-edges.edgelist',\n",
       " '262144-nodes_1309521-edges.edgelist',\n",
       " '8192-nodes_41084-edges.edgelist',\n",
       " '16384-nodes_81859-edges.edgelist',\n",
       " '32768-nodes_163550-edges.edgelist']"
      ]
     },
     "execution_count": 9,
     "metadata": {},
     "output_type": "execute_result"
    }
   ],
   "source": [
    "graph_list = os.listdir(graph_path)\n",
    "graph_list"
   ]
  },
  {
   "cell_type": "code",
   "execution_count": 10,
   "id": "39e25cca-67c8-4730-9a28-9e3f31241286",
   "metadata": {},
   "outputs": [],
   "source": [
    "graph_list = ['8192-nodes_41084-edges.edgelist', '16384-nodes_81859-edges.edgelist',\n",
    " '32768-nodes_163550-edges.edgelist']"
   ]
  },
  {
   "cell_type": "code",
   "execution_count": 11,
   "id": "ac9cb7a9-e9b9-45b0-820e-ca65f32ae85f",
   "metadata": {},
   "outputs": [
    {
     "name": "stdout",
     "output_type": "stream",
     "text": [
      "Average Degree of 8192-nodes_41084-edges.edgelist: 10.0302734375\n",
      "Average Degree of 16384-nodes_81859-edges.edgelist: 9.994383737256578\n",
      "Average Degree of 32768-nodes_163550-edges.edgelist: 9.982604449598682\n"
     ]
    }
   ],
   "source": [
    "for file_name in graph_list:\n",
    "    if file_name.endswith('.edgelist'):\n",
    "        file_path = os.path.join(graph_path, file_name)\n",
    "        avg_degree = calculate_average_degree(file_path)\n",
    "        print(f\"Average Degree of {file_name}: {avg_degree}\")"
   ]
  }
 ],
 "metadata": {
  "kernelspec": {
   "display_name": "Python 3 (ipykernel)",
   "language": "python",
   "name": "python3"
  },
  "language_info": {
   "codemirror_mode": {
    "name": "ipython",
    "version": 3
   },
   "file_extension": ".py",
   "mimetype": "text/x-python",
   "name": "python",
   "nbconvert_exporter": "python",
   "pygments_lexer": "ipython3",
   "version": "3.11.5"
  }
 },
 "nbformat": 4,
 "nbformat_minor": 5
}
